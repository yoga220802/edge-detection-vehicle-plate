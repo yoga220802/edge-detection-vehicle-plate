{
 "cells": [
  {
   "cell_type": "markdown",
   "metadata": {},
   "source": [
    "# Deteksi Tepi Plat Nomor Kendaraan\n"
   ]
  },
  {
   "cell_type": "markdown",
   "metadata": {},
   "source": [
    "## Import Library\n"
   ]
  },
  {
   "cell_type": "code",
   "execution_count": null,
   "metadata": {},
   "outputs": [],
   "source": [
    "# %pip install opencv-python matplotlib pillow scikit-image numpy pandas"
   ]
  },
  {
   "cell_type": "code",
   "execution_count": null,
   "metadata": {},
   "outputs": [],
   "source": [
    "import os\n",
    "import cv2\n",
    "import numpy as np\n",
    "import pandas as pd\n",
    "from matplotlib import pyplot as plt\n",
    "from PIL import Image\n",
    "from skimage.metrics import peak_signal_noise_ratio as psnr\n",
    "from skimage.metrics import mean_squared_error as mse\n",
    "from skimage.measure import shannon_entropy"
   ]
  },
  {
   "cell_type": "markdown",
   "metadata": {},
   "source": [
    "## 1. Import Dataset\n"
   ]
  },
  {
   "cell_type": "markdown",
   "metadata": {},
   "source": [
    "### Menentukan direktori dataset\n"
   ]
  },
  {
   "cell_type": "code",
   "execution_count": null,
   "metadata": {},
   "outputs": [],
   "source": [
    "data_dir = './src/dataset/raw data'"
   ]
  },
  {
   "cell_type": "markdown",
   "metadata": {},
   "source": [
    "### Cek apakah direktori dataset ada\n"
   ]
  },
  {
   "cell_type": "code",
   "execution_count": null,
   "metadata": {},
   "outputs": [],
   "source": [
    "if not os.path.exists(data_dir):\n",
    "    raise FileNotFoundError(f\"Dataset directory '{data_dir}' does not exist. Please check the path.\")"
   ]
  },
  {
   "cell_type": "markdown",
   "metadata": {},
   "source": [
    "### Load dataset\n"
   ]
  },
  {
   "cell_type": "code",
   "execution_count": null,
   "metadata": {},
   "outputs": [],
   "source": [
    "def load_images_from_directory(directory):\n",
    "    images = []\n",
    "    filenames = []\n",
    "    for filename in os.listdir(directory):\n",
    "        if filename.endswith(('.png', '.jpg', '.jpeg')):\n",
    "            filepath = os.path.join(directory, filename)\n",
    "            image = cv2.imread(filepath)\n",
    "            if image is not None:\n",
    "                images.append(image)\n",
    "                filenames.append(filename)\n",
    "            else:\n",
    "                print(f\"Warning: Unable to load image {filename}.\")\n",
    "    return images, filenames"
   ]
  },
  {
   "cell_type": "code",
   "execution_count": null,
   "metadata": {},
   "outputs": [],
   "source": [
    "# Load images\n",
    "images, filenames = load_images_from_directory(data_dir)\n",
    "\n",
    "# Check if images were loaded\n",
    "if not images:\n",
    "    raise ValueError(\"No images were found in the specified directory. Please add some images.\")"
   ]
  },
  {
   "cell_type": "markdown",
   "metadata": {},
   "source": [
    "### Menampilkan dataset\n"
   ]
  },
  {
   "cell_type": "code",
   "execution_count": null,
   "metadata": {},
   "outputs": [],
   "source": [
    "def display_images(images, filenames, cols=3, title=\"Gambar\"):\n",
    "    rows = (len(images) + cols - 1) // cols\n",
    "    fig, axes = plt.subplots(rows, cols, figsize=(15, 5 * rows))\n",
    "    for i, ax in enumerate(axes.flat):\n",
    "        if i < len(images):\n",
    "            image_rgb = cv2.cvtColor(images[i], cv2.COLOR_BGR2RGB)\n",
    "            ax.imshow(image_rgb)\n",
    "            ax.set_title(filenames[i])\n",
    "            ax.axis('off')\n",
    "        else:\n",
    "            ax.axis('off')\n",
    "    plt.suptitle(title)\n",
    "    plt.tight_layout()\n",
    "    plt.show()"
   ]
  },
  {
   "cell_type": "code",
   "execution_count": null,
   "metadata": {},
   "outputs": [],
   "source": [
    "display_images(images, filenames, title=\"Original Images\")"
   ]
  },
  {
   "cell_type": "markdown",
   "metadata": {},
   "source": [
    "## 2. Preprocessing Image\n"
   ]
  },
  {
   "cell_type": "markdown",
   "metadata": {},
   "source": [
    "### Folder output\n"
   ]
  },
  {
   "cell_type": "code",
   "execution_count": null,
   "metadata": {},
   "outputs": [],
   "source": [
    "output_folder = \"./src/dataset/preprocessed\"\n",
    "os.makedirs(output_folder, exist_ok=True)"
   ]
  },
  {
   "cell_type": "markdown",
   "metadata": {},
   "source": [
    "### Konfigurasi kompresi dan reshape\n"
   ]
  },
  {
   "cell_type": "code",
   "execution_count": null,
   "metadata": {},
   "outputs": [],
   "source": [
    "max_width = 1024  # Resolusi tujuan (width, height)\n",
    "compression_quality = 100   # Kualitas JPEG (0-100, semakin tinggi semakin baik)"
   ]
  },
  {
   "cell_type": "markdown",
   "metadata": {},
   "source": [
    "### Fungsi untuk kompresi dan analisis\n"
   ]
  },
  {
   "cell_type": "code",
   "execution_count": null,
   "metadata": {},
   "outputs": [],
   "source": [
    "analysis_data = []\n",
    "for filename in os.listdir(data_dir):\n",
    "    if filename.lower().endswith(('.png', '.jpg', '.jpeg')):\n",
    "        file_path = os.path.join(data_dir, filename)\n",
    "        img = cv2.imread(file_path)\n",
    "\n",
    "        # Dapatkan dimensi asli\n",
    "        original_height, original_width = img.shape[:2]\n",
    "\n",
    "        # Tentukan dimensi target dengan mempertahankan proporsi\n",
    "        scaling_factor = max_width / original_width\n",
    "        target_width = int(original_width * scaling_factor)\n",
    "        target_height = int(original_height * scaling_factor)\n",
    "        target_size = (target_width, target_height)\n",
    "\n",
    "        # Resize citra asli sesuai proporsi\n",
    "        resized_original = cv2.resize(img, target_size, interpolation=cv2.INTER_AREA)\n",
    "\n",
    "        # Kompresi citra\n",
    "        output_path = os.path.join(output_folder, filename)\n",
    "        cv2.imwrite(output_path, resized_original, [cv2.IMWRITE_JPEG_QUALITY, compression_quality])\n",
    "\n",
    "        # Baca kembali citra hasil kompresi\n",
    "        compressed_img = cv2.imread(output_path)\n",
    "\n",
    "        # Hitung MSE, PSNR, dan Entropy\n",
    "        mse_value = mse(resized_original, compressed_img)\n",
    "        psnr_value = psnr(resized_original, compressed_img)\n",
    "        entropy_value = shannon_entropy(compressed_img)\n",
    "\n",
    "        # Simpan hasil analisis\n",
    "        analysis_data.append({\n",
    "            \"Filename\": filename,\n",
    "            \"Original Size (MB)\": os.path.getsize(file_path) / (1024 * 1024),\n",
    "            \"Compressed Size (MB)\": os.path.getsize(output_path) / (1024 * 1024),\n",
    "            \"MSE\": mse_value,\n",
    "            \"PSNR\": psnr_value,\n",
    "            \"Entropy\": entropy_value,\n",
    "            \"Original Dimensions\": f\"{original_width}x{original_height}\",\n",
    "            \"Resized Dimensions\": f\"{target_width}x{target_height}\"\n",
    "        })"
   ]
  },
  {
   "cell_type": "markdown",
   "metadata": {},
   "source": [
    "### Tabel hasil analisis\n"
   ]
  },
  {
   "cell_type": "code",
   "execution_count": null,
   "metadata": {},
   "outputs": [],
   "source": [
    "df_analysis = pd.DataFrame(analysis_data)\n",
    "print(df_analysis)"
   ]
  },
  {
   "cell_type": "markdown",
   "metadata": {},
   "source": [
    "### Simpan hasil analisis ke file CSV\n"
   ]
  },
  {
   "cell_type": "code",
   "execution_count": null,
   "metadata": {},
   "outputs": [],
   "source": [
    "# df_analysis.to_csv(\"./src/analysis/preprocessed_analysis.csv\", index=False)"
   ]
  },
  {
   "cell_type": "code",
   "execution_count": null,
   "metadata": {},
   "outputs": [],
   "source": [
    "images, filenames = load_images_from_directory(output_folder)\n",
    "display_images(images, filenames, title=\"Compressed Images\")"
   ]
  },
  {
   "cell_type": "markdown",
   "metadata": {},
   "source": [
    "### **Analisis Hasil**\n",
    "\n",
    "1. **MSE dan PSNR**:\n",
    "\n",
    "   - **MSE**: Nilai MSE berada di kisaran **0.617 hingga 1.183**, yang sangat rendah. Ini menunjukkan bahwa perubahan dari citra asli ke citra hasil kompresi sangat kecil.\n",
    "   - **PSNR**: Nilai PSNR berkisar antara **47.4 dB hingga 50.2 dB**, yang merupakan kualitas sangat tinggi. Secara visual, perbedaan antara citra asli dan hasil kompresi hampir tidak terlihat.\n",
    "\n",
    "2. **Entropy**:\n",
    "\n",
    "   - Nilai entropy berkisar antara **7.29 hingga 7.95**, menunjukkan bahwa informasi dalam citra tetap kaya dan keragaman detail visual tetap terjaga setelah kompresi.\n",
    "\n",
    "3. **Ukuran File**:\n",
    "   - Ukuran file berkurang secara signifikan (dari rata-rata 3-4 MB ke kurang dari 1.1 MB), meskipun kualitas JPEG diatur ke **100**.\n",
    "   - Resolusi citra juga disesuaikan menjadi **1024x1365**, yang mempertahankan proporsi asli.\n",
    "\n",
    "---\n",
    "\n",
    "### **Kelebihan**\n",
    "\n",
    "- **Efisiensi**: Ukuran file yang lebih kecil membuat pemrosesan lebih cepat, terutama saat dataset besar.\n",
    "- **Kualitas Terjaga**: Nilai PSNR di atas 47 dB memastikan bahwa kompresi tidak merusak kualitas citra secara signifikan.\n",
    "- **Proporsi Terjaga**: Dimensi gambar mempertahankan rasio asli, yang sangat penting untuk analisis citra.\n"
   ]
  }
 ],
 "metadata": {
  "kernelspec": {
   "display_name": "Python 3",
   "language": "python",
   "name": "python3"
  },
  "language_info": {
   "codemirror_mode": {
    "name": "ipython",
    "version": 3
   },
   "file_extension": ".py",
   "mimetype": "text/x-python",
   "name": "python",
   "nbconvert_exporter": "python",
   "pygments_lexer": "ipython3"
  }
 },
 "nbformat": 4,
 "nbformat_minor": 2
}

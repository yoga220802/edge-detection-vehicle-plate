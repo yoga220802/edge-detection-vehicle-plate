{
 "cells": [
  {
   "cell_type": "markdown",
   "metadata": {},
   "source": [
    "# Deteksi Tepi Plat Nomor Kendaraan\n"
   ]
  },
  {
   "cell_type": "markdown",
   "metadata": {},
   "source": [
    "## Import Library\n"
   ]
  },
  {
   "cell_type": "code",
   "execution_count": null,
   "metadata": {},
   "outputs": [],
   "source": [
    "# %pip install opencv-python matplotlib pillow scikit-image numpy pandas"
   ]
  },
  {
   "cell_type": "code",
   "execution_count": null,
   "metadata": {},
   "outputs": [],
   "source": [
    "import os\n",
    "import cv2\n",
    "import numpy as np\n",
    "import pandas as pd\n",
    "from matplotlib import pyplot as plt\n",
    "from PIL import Image\n",
    "from skimage.metrics import peak_signal_noise_ratio as psnr\n",
    "from skimage.metrics import mean_squared_error as mse\n",
    "from skimage.measure import shannon_entropy\n",
    "from skimage.restoration import wiener\n",
    "import time"
   ]
  },
  {
   "cell_type": "markdown",
   "metadata": {},
   "source": [
    "## 1. Import Dataset\n"
   ]
  },
  {
   "cell_type": "markdown",
   "metadata": {},
   "source": [
    "### Menentukan direktori dataset\n"
   ]
  },
  {
   "cell_type": "code",
   "execution_count": null,
   "metadata": {},
   "outputs": [],
   "source": [
    "data_dir = './src/dataset/raw data'"
   ]
  },
  {
   "cell_type": "markdown",
   "metadata": {},
   "source": [
    "### Cek apakah direktori dataset ada\n"
   ]
  },
  {
   "cell_type": "code",
   "execution_count": null,
   "metadata": {},
   "outputs": [],
   "source": [
    "if not os.path.exists(data_dir):\n",
    "    raise FileNotFoundError(f\"Dataset directory '{data_dir}' does not exist. Please check the path.\")"
   ]
  },
  {
   "cell_type": "markdown",
   "metadata": {},
   "source": [
    "### Load dataset\n"
   ]
  },
  {
   "cell_type": "code",
   "execution_count": null,
   "metadata": {},
   "outputs": [],
   "source": [
    "def load_images_from_directory(directory):\n",
    "    images = []\n",
    "    filenames = []\n",
    "    for filename in os.listdir(directory):\n",
    "        if filename.endswith(('.png', '.jpg', '.jpeg')):\n",
    "            filepath = os.path.join(directory, filename)\n",
    "            image = cv2.imread(filepath)\n",
    "            if image is not None:\n",
    "                images.append(image)\n",
    "                filenames.append(filename)\n",
    "            else:\n",
    "                print(f\"Warning: Unable to load image {filename}.\")\n",
    "    return images, filenames"
   ]
  },
  {
   "cell_type": "code",
   "execution_count": null,
   "metadata": {},
   "outputs": [],
   "source": [
    "# Load images\n",
    "images, filenames = load_images_from_directory(data_dir)\n",
    "\n",
    "# Check if images were loaded\n",
    "if not images:\n",
    "    raise ValueError(\"No images were found in the specified directory. Please add some images.\")"
   ]
  },
  {
   "cell_type": "markdown",
   "metadata": {},
   "source": [
    "### Menampilkan dataset\n"
   ]
  },
  {
   "cell_type": "code",
   "execution_count": null,
   "metadata": {},
   "outputs": [],
   "source": [
    "def display_images(images, filenames, cols=3, title=\"Gambar\"):\n",
    "    rows = (len(images) + cols - 1) // cols\n",
    "    fig, axes = plt.subplots(rows, cols, figsize=(15, 5 * rows))\n",
    "    for i, ax in enumerate(axes.flat):\n",
    "        if i < len(images):\n",
    "            image_rgb = cv2.cvtColor(images[i], cv2.COLOR_BGR2RGB)\n",
    "            ax.imshow(image_rgb)\n",
    "            ax.set_title(filenames[i])\n",
    "            ax.axis('off')\n",
    "        else:\n",
    "            ax.axis('off')\n",
    "    plt.suptitle(title)\n",
    "    plt.tight_layout()\n",
    "    plt.show()"
   ]
  },
  {
   "cell_type": "code",
   "execution_count": null,
   "metadata": {},
   "outputs": [],
   "source": [
    "display_images(images, filenames, title=\"Original Images\")"
   ]
  },
  {
   "cell_type": "markdown",
   "metadata": {},
   "source": [
    "## 2. Preprocessing Image\n"
   ]
  },
  {
   "cell_type": "markdown",
   "metadata": {},
   "source": [
    "### Folder output\n"
   ]
  },
  {
   "cell_type": "code",
   "execution_count": null,
   "metadata": {},
   "outputs": [],
   "source": [
    "output_folder = \"./src/dataset/preprocessed\"\n",
    "os.makedirs(output_folder, exist_ok=True)"
   ]
  },
  {
   "cell_type": "markdown",
   "metadata": {},
   "source": [
    "### Konfigurasi kompresi dan reshape\n"
   ]
  },
  {
   "cell_type": "code",
   "execution_count": null,
   "metadata": {},
   "outputs": [],
   "source": [
    "max_width = 1024  # Resolusi tujuan (width, height)\n",
    "compression_quality = 100   # Kualitas JPEG (0-100, semakin tinggi semakin baik)"
   ]
  },
  {
   "cell_type": "markdown",
   "metadata": {},
   "source": [
    "### Fungsi untuk kompresi dan analisis\n"
   ]
  },
  {
   "cell_type": "code",
   "execution_count": null,
   "metadata": {},
   "outputs": [],
   "source": [
    "analysis_data = []\n",
    "for filename in os.listdir(data_dir):\n",
    "    if filename.lower().endswith(('.png', '.jpg', '.jpeg')):\n",
    "        file_path = os.path.join(data_dir, filename)\n",
    "        img = cv2.imread(file_path)\n",
    "\n",
    "        # Dapatkan dimensi asli\n",
    "        original_height, original_width = img.shape[:2]\n",
    "\n",
    "        # Tentukan dimensi target dengan mempertahankan proporsi\n",
    "        scaling_factor = max_width / original_width\n",
    "        target_width = int(original_width * scaling_factor)\n",
    "        target_height = int(original_height * scaling_factor)\n",
    "        target_size = (target_width, target_height)\n",
    "\n",
    "        # Resize citra asli sesuai proporsi\n",
    "        resized_original = cv2.resize(img, target_size, interpolation=cv2.INTER_AREA)\n",
    "\n",
    "        # Kompresi citra\n",
    "        output_path = os.path.join(output_folder, filename)\n",
    "        cv2.imwrite(output_path, resized_original, [cv2.IMWRITE_JPEG_QUALITY, compression_quality])\n",
    "\n",
    "        # Baca kembali citra hasil kompresi\n",
    "        compressed_img = cv2.imread(output_path)\n",
    "\n",
    "        # Hitung MSE, PSNR, dan Entropy\n",
    "        mse_value = mse(resized_original, compressed_img)\n",
    "        psnr_value = psnr(resized_original, compressed_img)\n",
    "        entropy_value = shannon_entropy(compressed_img)\n",
    "\n",
    "        # Simpan hasil analisis\n",
    "        analysis_data.append({\n",
    "            \"Filename\": filename,\n",
    "            \"Original Size (MB)\": os.path.getsize(file_path) / (1024 * 1024),\n",
    "            \"Compressed Size (MB)\": os.path.getsize(output_path) / (1024 * 1024),\n",
    "            \"MSE\": mse_value,\n",
    "            \"PSNR\": psnr_value,\n",
    "            \"Entropy\": entropy_value,\n",
    "            \"Original Dimensions\": f\"{original_width}x{original_height}\",\n",
    "            \"Resized Dimensions\": f\"{target_width}x{target_height}\"\n",
    "        })"
   ]
  },
  {
   "cell_type": "markdown",
   "metadata": {},
   "source": [
    "### Tabel hasil analisis\n"
   ]
  },
  {
   "cell_type": "code",
   "execution_count": null,
   "metadata": {},
   "outputs": [],
   "source": [
    "df_analysis = pd.DataFrame(analysis_data)\n",
    "print(df_analysis)"
   ]
  },
  {
   "cell_type": "markdown",
   "metadata": {},
   "source": [
    "### tampilkan gambar hasil kompresi\n"
   ]
  },
  {
   "cell_type": "code",
   "execution_count": null,
   "metadata": {},
   "outputs": [],
   "source": [
    "images, filenames = load_images_from_directory(output_folder)\n",
    "display_images(images, filenames, title=\"Compressed Images\")"
   ]
  },
  {
   "cell_type": "markdown",
   "metadata": {},
   "source": [
    "### **Analisis Hasil**\n",
    "\n",
    "1. **MSE dan PSNR**:\n",
    "\n",
    "   - **MSE**: Nilai MSE berada di kisaran **0.617 hingga 1.183**, yang sangat rendah. Ini menunjukkan bahwa perubahan dari citra asli ke citra hasil kompresi sangat kecil.\n",
    "   - **PSNR**: Nilai PSNR berkisar antara **47.4 dB hingga 50.2 dB**, yang merupakan kualitas sangat tinggi. Secara visual, perbedaan antara citra asli dan hasil kompresi hampir tidak terlihat.\n",
    "\n",
    "2. **Entropy**:\n",
    "\n",
    "   - Nilai entropy berkisar antara **7.29 hingga 7.95**, menunjukkan bahwa informasi dalam citra tetap kaya dan keragaman detail visual tetap terjaga setelah kompresi.\n",
    "\n",
    "3. **Ukuran File**:\n",
    "   - Ukuran file berkurang secara signifikan (dari rata-rata 3-4 MB ke kurang dari 1.1 MB), meskipun kualitas JPEG diatur ke **100**.\n",
    "   - Resolusi citra juga disesuaikan menjadi **1024x1365**, yang mempertahankan proporsi asli.\n",
    "\n",
    "---\n",
    "\n",
    "### **Kelebihan**\n",
    "\n",
    "- **Efisiensi**: Ukuran file yang lebih kecil membuat pemrosesan lebih cepat, terutama saat dataset besar.\n",
    "- **Kualitas Terjaga**: Nilai PSNR di atas 47 dB memastikan bahwa kompresi tidak merusak kualitas citra secara signifikan.\n",
    "- **Proporsi Terjaga**: Dimensi gambar mempertahankan rasio asli, yang sangat penting untuk analisis citra.\n"
   ]
  },
  {
   "cell_type": "markdown",
   "metadata": {},
   "source": [
    "## 3. image enhancement\n"
   ]
  },
  {
   "cell_type": "markdown",
   "metadata": {},
   "source": [
    "### noise reduction (Non-Local Means)\n"
   ]
  },
  {
   "cell_type": "code",
   "execution_count": null,
   "metadata": {},
   "outputs": [],
   "source": [
    "def reduce_noise(img):\n",
    "    return cv2.fastNlMeansDenoisingColored(img, None, 10, 10, 7, 21)"
   ]
  },
  {
   "cell_type": "markdown",
   "metadata": {},
   "source": [
    "### sharpening menggunakan Laplacian\n"
   ]
  },
  {
   "cell_type": "code",
   "execution_count": null,
   "metadata": {},
   "outputs": [],
   "source": [
    "def sharpen_image(img):\n",
    "    kernel = np.array([\n",
    "        [0, -1, 0],\n",
    "        [-1, 5, -1],\n",
    "        [0, -1, 0]\n",
    "        ])\n",
    "    return cv2.filter2D(img, -1, kernel)"
   ]
  },
  {
   "cell_type": "markdown",
   "metadata": {},
   "source": [
    "### mengurangi motion blur menggunakan Wiener Filter\n"
   ]
  },
  {
   "cell_type": "code",
   "execution_count": null,
   "metadata": {},
   "outputs": [],
   "source": [
    "def reduce_motion_blur(img):\n",
    "    # Konversi ke grayscale jika gambar memiliki 3 channel\n",
    "    if len(img.shape) == 3:\n",
    "        img = cv2.cvtColor(img, cv2.COLOR_BGR2GRAY)\n",
    "\n",
    "    kernel = np.ones((5, 5)) / 25  # Kernel untuk motion blur\n",
    "    img_blur = cv2.filter2D(img, -1, kernel)\n",
    "    img_float = img_blur.astype(np.float32) / 255.0  # Normalisasi\n",
    "    restored = wiener(img_float, kernel, 0.1)  # Aplikasikan Wiener filter\n",
    "    return (restored * 255).astype(np.uint8)  # Konversi kembali ke 8-bit"
   ]
  },
  {
   "cell_type": "markdown",
   "metadata": {},
   "source": [
    "### mengurangi blur menggunakan Gaussian Blur\n"
   ]
  },
  {
   "cell_type": "code",
   "execution_count": null,
   "metadata": {},
   "outputs": [],
   "source": [
    "def reduce_blur(img):\n",
    "    kernel_size = 7  # diubah sesuai kebutuhan\n",
    "    blurred = cv2.GaussianBlur(img, (kernel_size, kernel_size), 0)\n",
    "    return blurred"
   ]
  },
  {
   "cell_type": "markdown",
   "metadata": {},
   "source": [
    "### meningkatkan kontras menggunakan CLAHE\n"
   ]
  },
  {
   "cell_type": "code",
   "execution_count": null,
   "metadata": {},
   "outputs": [],
   "source": [
    "def enhance_contrast(img):\n",
    "    clahe = cv2.createCLAHE(clipLimit=2.0, tileGridSize=(8, 8))\n",
    "    return clahe.apply(img)"
   ]
  },
  {
   "cell_type": "markdown",
   "metadata": {},
   "source": [
    "### Proses peningkatan citra\n"
   ]
  },
  {
   "cell_type": "code",
   "execution_count": null,
   "metadata": {},
   "outputs": [],
   "source": [
    "# List untuk menyimpan hasil pemrosesan\n",
    "enhanced_images = []\n",
    "enhanced_dir = \"./src/dataset/enhanced\"\n",
    "os.makedirs(enhanced_dir, exist_ok=True)\n",
    "\n",
    "for filename in os.listdir(output_folder):\n",
    "    if filename.lower().endswith(('.png', '.jpg', '.jpeg')):\n",
    "        file_path = os.path.join(output_folder, filename)\n",
    "        img = cv2.imread(file_path)\n",
    "        \n",
    "        # Mulai pencatatan waktu\n",
    "        start_time = time.time()\n",
    "\n",
    "        # Transformasi ke grayscale\n",
    "        gray_img = cv2.cvtColor(img, cv2.COLOR_BGR2GRAY)\n",
    "\n",
    "        # Noise reduction\n",
    "        denoised_img = reduce_noise(img)\n",
    "\n",
    "        # Sharpening\n",
    "        sharpened_img = sharpen_image(denoised_img)\n",
    "\n",
    "        # Mengurangi motion blur\n",
    "        motion_blur_reduced = reduce_motion_blur(sharpened_img)\n",
    "\n",
    "        # Gaussian Blur untuk mengurangi sisa noise\n",
    "        blurred_img = reduce_blur(motion_blur_reduced)\n",
    "\n",
    "        # Meningkatkan kontras menggunakan CLAHE\n",
    "        contrast_enhanced = enhance_contrast(blurred_img)\n",
    "        \n",
    "        end_time = time.time()\n",
    "        processing_duration = end_time - start_time  # Durasi pemrosesan\n",
    "\n",
    "        # Simpan citra hasil proses\n",
    "        processed_path = os.path.join(enhanced_dir, f\"processed_{filename}\")\n",
    "        cv2.imwrite(processed_path, contrast_enhanced)\n",
    "\n",
    "        # print(f\"{filename} berhasil diproses dan disimpan sebagai {processed_path}.\")\n",
    "        \n",
    "        # Tambahkan hasil ke list\n",
    "        enhanced_images.append({\n",
    "            \"Filename\": filename,\n",
    "            \"Processed Image\": contrast_enhanced\n",
    "        })\n",
    "\n",
    "        # print(f\"{filename} berhasil diproses dan ditambahkan ke list.\")\n",
    "        \n",
    "        # Hitung metrik MSE, PSNR, dan Entropy\n",
    "        mse_value = mse(gray_img, contrast_enhanced)\n",
    "        psnr_value = psnr(gray_img, contrast_enhanced)\n",
    "        entropy_value = shannon_entropy(contrast_enhanced)\n",
    "\n",
    "        # Simpan hasil analisis\n",
    "        for analysis in analysis_data:\n",
    "            if analysis[\"Filename\"] == filename:\n",
    "                analysis[\"Processing Duration (s)\"] = processing_duration\n",
    "                break\n",
    "\n",
    "        print(f\"{filename} berhasil diproses dalam {processing_duration:.2f} detik.\")"
   ]
  },
  {
   "cell_type": "code",
   "execution_count": null,
   "metadata": {},
   "outputs": [],
   "source": [
    "df_analysis = pd.DataFrame(analysis_data)\n",
    "print(df_analysis)"
   ]
  },
  {
   "cell_type": "markdown",
   "metadata": {},
   "source": [
    "### Simpan hasil analisis ke file CSV\n"
   ]
  },
  {
   "cell_type": "code",
   "execution_count": null,
   "metadata": {},
   "outputs": [],
   "source": [
    "# df_analysis.to_csv(\"./src/analysis/analysis.csv\", index=False)"
   ]
  },
  {
   "cell_type": "markdown",
   "metadata": {},
   "source": [
    "### Fungsi untuk menampilkan perbandingan citra\n"
   ]
  },
  {
   "cell_type": "code",
   "execution_count": null,
   "metadata": {},
   "outputs": [],
   "source": [
    "def show_comparison(original_images, enhanced_images):\n",
    "    for original, enhanced in zip(original_images, enhanced_images):\n",
    "        original_img = cv2.cvtColor(cv2.imread(original[\"File Path\"]), cv2.COLOR_BGR2RGB)  # Konversi ke RGB\n",
    "        enhanced_img = enhanced[\"Processed Image\"]  # Sudah grayscale\n",
    "\n",
    "        # Plot perbandingan\n",
    "        plt.figure(figsize=(10, 5))\n",
    "        \n",
    "        # Tampilkan citra asli\n",
    "        plt.subplot(1, 2, 1)\n",
    "        plt.imshow(original_img)\n",
    "        plt.title(f\"Original: {original['Filename']}\")\n",
    "        plt.axis(\"off\")\n",
    "\n",
    "        # Tampilkan citra hasil pemrosesan\n",
    "        plt.subplot(1, 2, 2)\n",
    "        plt.imshow(enhanced_img, cmap='gray')\n",
    "        plt.title(f\"Enhanced: {enhanced['Filename']}\")\n",
    "        plt.axis(\"off\")\n",
    "        \n",
    "        plt.tight_layout()\n",
    "        plt.show()"
   ]
  },
  {
   "cell_type": "markdown",
   "metadata": {},
   "source": [
    "### tampilkan perbandingan\n"
   ]
  },
  {
   "cell_type": "code",
   "execution_count": null,
   "metadata": {},
   "outputs": [],
   "source": [
    "# Membuat list untuk citra asli\n",
    "original_images = [{\"Filename\": filename, \"File Path\": os.path.join(output_folder, filename)} for filename in os.listdir(output_folder) if filename.lower().endswith(('.png', '.jpg', '.jpeg'))]\n",
    "\n",
    "# Menampilkan perbandingan\n",
    "show_comparison(original_images, enhanced_images)"
   ]
  },
  {
   "cell_type": "markdown",
   "metadata": {},
   "source": [
    "### **Analisis Perbandingan Citra Sebelum dan Setelah Peningkatan**\n",
    "\n",
    "1. **Peningkatan Kejelasan dan Detail**\n",
    "\n",
    "   - Citra sebelum peningkatan masih dalam format berwarna, sementara citra setelah peningkatan dikonversi ke grayscale.\n",
    "   - Setelah peningkatan, plat nomor kendaraan menjadi lebih tajam dan lebih mudah dibaca karena noise yang berkurang serta peningkatan kontras.\n",
    "   - Bagian kendaraan dan latar belakang juga terlihat lebih terdefinisi, meskipun beberapa area mengalami efek over-enhancement.\n",
    "\n",
    "2. **Reduksi Noise dan Blur**\n",
    "\n",
    "   - Noise yang awalnya muncul di bagian gelap dan bayangan pada citra berwarna berhasil dikurangi.\n",
    "   - Citra yang sebelumnya memiliki blur akibat gerakan atau fokus kamera yang kurang optimal menjadi lebih tajam setelah pemrosesan.\n",
    "   - Meskipun begitu, pada beberapa area tertentu, efek sharpening dapat menyebabkan munculnya artefak, terutama di tepi objek.\n",
    "\n",
    "3. **Kontras dan Peningkatan Detail Plat Nomor**\n",
    "   - Kontras yang lebih tinggi dihasilkan melalui CLAHE, yang membantu dalam memperjelas karakter pada plat nomor.\n",
    "   - Sebelumnya, beberapa plat nomor tampak buram atau memiliki pantulan cahaya yang mengurangi keterbacaan.\n",
    "   - Setelah ditingkatkan, karakter pada plat nomor lebih tegas, meskipun ada beberapa area dengan tingkat kecerahan tinggi yang bisa menyebabkan sedikit kehilangan detail.\n",
    "\n",
    "---\n",
    "\n",
    "### **Analisis Durasi Peningkatan Setiap Citra**\n",
    "\n",
    "| Nama Citra  | Durasi Pemrosesan (detik) |\n",
    "| ----------- | ------------------------- |\n",
    "| plate-1.jpg | 10.02                     |\n",
    "| plate-2.jpg | 10.30                     |\n",
    "| plate-3.jpg | 10.68                     |\n",
    "| plate-4.jpg | 9.91                      |\n",
    "\n",
    "#### **Interpretasi Durasi Pemrosesan**\n",
    "\n",
    "1. **Waktu Pemrosesan Relatif Stabil**\n",
    "\n",
    "   - Semua gambar diproses dalam rentang waktu 9.91 - 10.68 detik, yang menunjukkan bahwa metode yang digunakan memiliki performa yang konsisten untuk dataset yang serupa.\n",
    "\n",
    "2. **Perbedaan Durasi Sedikit Dipengaruhi oleh Kompleksitas Citra**\n",
    "\n",
    "   - Citra **plate-3.jpg** memiliki durasi pemrosesan paling lama (10.68 detik), karena lebih banyak noise atau kompleksitas latar belakang yang lebih tinggi.\n",
    "   - **plate-4.jpg** memiliki durasi tercepat (9.91 detik), yang disebabkan oleh tingkat noise yang lebih rendah atau struktur yang lebih sederhana pada citra.\n",
    "\n",
    "3. **Optimasi Durasi Pemrosesan**\n",
    "   - Jika diperlukan pemrosesan yang lebih cepat, beberapa langkah seperti noise reduction atau Gaussian blur bisa dioptimalkan dengan parameter yang lebih ringan.\n",
    "   - Penggunaan metode parallel processing atau pemrosesan GPU juga bisa menjadi alternatif untuk mempercepat proses ini dalam skala yang lebih besar.\n",
    "\n",
    "---\n",
    "\n",
    "### **Kesimpulan**\n",
    "\n",
    "- **Citra setelah peningkatan mengalami peningkatan kualitas yang signifikan**, terutama dalam keterbacaan plat nomor kendaraan.\n",
    "- **Noise dan blur berhasil dikurangi**, membuat kontur lebih jelas dan karakter plat nomor lebih terbaca.\n",
    "- **Kontras meningkat dengan baik**, meskipun ada beberapa bagian yang mengalami over-enhancement.\n",
    "- **Durasi pemrosesan cukup stabil**, berkisar di sekitar 10 detik, tetapi tetap bisa dioptimalkan jika dibutuhkan pemrosesan lebih cepat.\n"
   ]
  }
 ],
 "metadata": {
  "kernelspec": {
   "display_name": "Python 3",
   "language": "python",
   "name": "python3"
  },
  "language_info": {
   "codemirror_mode": {
    "name": "ipython",
    "version": 3
   },
   "file_extension": ".py",
   "mimetype": "text/x-python",
   "name": "python",
   "nbconvert_exporter": "python",
   "pygments_lexer": "ipython3"
  }
 },
 "nbformat": 4,
 "nbformat_minor": 2
}
